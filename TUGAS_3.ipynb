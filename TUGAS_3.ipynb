{
  "nbformat": 4,
  "nbformat_minor": 0,
  "metadata": {
    "colab": {
      "provenance": [],
      "authorship_tag": "ABX9TyPsFyjH/XRVupJJM67VAhfC",
      "include_colab_link": true
    },
    "kernelspec": {
      "name": "python3",
      "display_name": "Python 3"
    },
    "language_info": {
      "name": "python"
    }
  },
  "cells": [
    {
      "cell_type": "markdown",
      "metadata": {
        "id": "view-in-github",
        "colab_type": "text"
      },
      "source": [
        "<a href=\"https://colab.research.google.com/github/Rub9nnn/Pemrograman-Dasar/blob/main/TUGAS_3.ipynb\" target=\"_parent\"><img src=\"https://colab.research.google.com/assets/colab-badge.svg\" alt=\"Open In Colab\"/></a>"
      ]
    },
    {
      "cell_type": "code",
      "execution_count": 12,
      "metadata": {
        "colab": {
          "base_uri": "https://localhost:8080/"
        },
        "id": "lNOnxW-6uTFB",
        "outputId": "619f3ccf-9031-4ff1-eab5-8616a5aa5c89"
      },
      "outputs": [
        {
          "output_type": "stream",
          "name": "stdout",
          "text": [
            "2024: 400\n",
            "Bukan tahun kabisat\n"
          ]
        }
      ],
      "source": [
        "tahun = int(input(\"2024: \"))\n",
        "\n",
        "if(2024 % 4 == 0 and 2024 % 100 == 0) or (2024 % 400 == 0):\n",
        "    print (\"Tahun kabisat\")\n",
        "else:\n",
        "   print(\"Bukan tahun kabisat\")\n",
        "\n",
        "\n"
      ]
    },
    {
      "cell_type": "code",
      "source": [
        "# Fungsi untuk menjumlahkan\n",
        "def tambah (a, b):\n",
        "  return a + b\n",
        "\n",
        "  # Fungsi untuk mengurangkan\n",
        "  def kurang(a, b):\n",
        "    return a - b\n",
        "# Input dari pengguna\n",
        "angka1 = 54\n",
        "angka2 = 27\n",
        "\n",
        "# Operasi\n",
        "jumlah = (angka1, angka2)\n",
        "selisih = (angka1, angka2)\n",
        "\n",
        "# Output\n",
        "print(\"Hasil penjumlahan:\", angka1 + angka2)\n",
        "print(\"Hasil pengurangan:\", angka1 - angka2)"
      ],
      "metadata": {
        "colab": {
          "base_uri": "https://localhost:8080/"
        },
        "id": "lZADkNfWxho3",
        "outputId": "75433bd8-90f4-4a85-f16a-ae07694a5189"
      },
      "execution_count": 22,
      "outputs": [
        {
          "output_type": "stream",
          "name": "stdout",
          "text": [
            "Hasil penjumlahan: 81\n",
            "Hasil pengurangan: 27\n"
          ]
        }
      ]
    },
    {
      "cell_type": "code",
      "source": [
        "# Program kasir sederhana\n",
        "# Diskon 15% jika ada kartu member\n",
        "# PPN 11% dikenakan pada harga setelah diskon\n",
        "\n",
        "# Harga barang\n",
        "barang1 = float(input(\"Barang 1: Rp.\"))\n",
        "barang2 = float(input(\"Barang 2: Rp.\"))\n",
        "barang3 = float(input(\"Barang 3: Rp.\"))\n",
        "\n",
        "# Member\n",
        "member = input (\"Ada kartu membernya? (ada): \")\n",
        "\n",
        "# Menghitung subtotal\n",
        "subtotal = barang1 + barang2 + barang3\n",
        "\n",
        "# Hitung diskon 15% jika member dan subtotal > 50.000\n",
        "if_member = \"Ya\" and subtotal > 50.000\n",
        "diskon = 0.15 * subtotal\n",
        "\n",
        "\n",
        "# Harga setelah diskon\n",
        "harga_setelah_diskon = subtotal - diskon\n",
        "\n",
        "# Hitung PPN 11%\n",
        "ppn = 0.11 * harga_setelah_diskon\n",
        "\n",
        "# Total Akhir\n",
        "total_akhir = harga_setelah_diskon + ppn\n",
        "\n",
        "# Output\n",
        "print(\"\\n==== STRUK BELANJA ====\")\n",
        "print(f\"Subtotal : Rp {subtotal:,.2f}\")\n",
        "print(f\"Diskon : Rp {diskon:,.2f}\")\n",
        "print(f\"Harga setelah diskon : Rp. {harga_setelah_diskon:,.2f}\")\n",
        "print(f\"PPN (11%) : Rp {ppn:,.2f}\")\n",
        "print(f\"Total akhir : Rp {total_akhir:,.2f}\")\n",
        "\n",
        "\n"
      ],
      "metadata": {
        "colab": {
          "base_uri": "https://localhost:8080/"
        },
        "id": "1kzQwNnsRPJx",
        "outputId": "ed45bb23-82f7-4481-c805-387199ee8c78"
      },
      "execution_count": 36,
      "outputs": [
        {
          "output_type": "stream",
          "name": "stdout",
          "text": [
            "Barang 1: Rp.30.000\n",
            "Barang 2: Rp.75.000\n",
            "Barang 3: Rp.10.000\n",
            "Ada kartu membernya? (ada): ada\n",
            "\n",
            "==== STRUK BELANJA ====\n",
            "Subtotal : Rp 115.00\n",
            "Diskon : Rp 17.25\n",
            "Harga setelah diskon : Rp. 97.75\n",
            "PPN (11%) : Rp 10.75\n",
            "Total akhir : Rp 108.50\n"
          ]
        }
      ]
    }
  ]
}