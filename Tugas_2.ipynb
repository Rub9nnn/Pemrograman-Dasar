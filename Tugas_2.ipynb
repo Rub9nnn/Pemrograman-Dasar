{
  "nbformat": 4,
  "nbformat_minor": 0,
  "metadata": {
    "colab": {
      "provenance": [],
      "authorship_tag": "ABX9TyP9mAp4EHATEcRkFLyLxKfl",
      "include_colab_link": true
    },
    "kernelspec": {
      "name": "python3",
      "display_name": "Python 3"
    },
    "language_info": {
      "name": "python"
    }
  },
  "cells": [
    {
      "cell_type": "markdown",
      "metadata": {
        "id": "view-in-github",
        "colab_type": "text"
      },
      "source": [
        "<a href=\"https://colab.research.google.com/github/Rub9nnn/Pemrograman-Dasar/blob/main/Tugas_2.ipynb\" target=\"_parent\"><img src=\"https://colab.research.google.com/assets/colab-badge.svg\" alt=\"Open In Colab\"/></a>"
      ]
    },
    {
      "cell_type": "code",
      "execution_count": null,
      "metadata": {
        "colab": {
          "base_uri": "https://localhost:8080/"
        },
        "id": "pngR9ugETmZy",
        "outputId": "8a764b15-d094-468b-c497-f4d4d7463211"
      },
      "outputs": [
        {
          "output_type": "stream",
          "name": "stdout",
          "text": [
            "Ruben\n",
            "Santosa Simbolon\n",
            "20\n",
            "False\n"
          ]
        }
      ],
      "source": [
        "firstName = \"Ruben\"\n",
        "lastName = \"Santosa Simbolon\"\n",
        "age = 20\n",
        "isMarried = False\n",
        "\n",
        "print (firstName)\n",
        "print (lastName)\n",
        "print (age)\n",
        "print (isMarried)"
      ]
    },
    {
      "cell_type": "code",
      "source": [
        "data_diri = {\"firstName\" : 'Ruben', \"lastName\" : 'Santosa Simbolon', \"age\" : 20 , \"isMarried\" : False }\n",
        "\n",
        "print (data_diri[\"firstName\"])\n",
        "print (data_diri[\"lastName\"])\n",
        "print (data_diri[\"age\"])\n",
        "print (data_diri[\"isMarried\"])"
      ],
      "metadata": {
        "colab": {
          "base_uri": "https://localhost:8080/"
        },
        "id": "B1Tk0e-ejoYs",
        "outputId": "1be24c5c-1a1e-4acd-8542-af5be5b7edd2"
      },
      "execution_count": null,
      "outputs": [
        {
          "output_type": "stream",
          "name": "stdout",
          "text": [
            "Ruben\n",
            "Santosa Simbolon\n",
            "20\n",
            "False\n"
          ]
        }
      ]
    },
    {
      "cell_type": "code",
      "source": [
        "daftar_inspeksi = [\"Pemahaman terhadap rencana dan desain\", \"Ketersediaan bahan dan peralatan\", \"Pengawasan pekerjaan\", \"Kualitas kontruksi\", \"Keselamatan kerja\", \"Koordinasi dengan pemilik proyek\"]\n",
        "\n",
        "print (daftar_inspeksi[0])\n",
        "print (daftar_inspeksi[1])\n",
        "print (daftar_inspeksi[2])\n",
        "print (daftar_inspeksi[3])\n",
        "print (daftar_inspeksi[4])\n",
        "print (daftar_inspeksi[5])"
      ],
      "metadata": {
        "colab": {
          "base_uri": "https://localhost:8080/"
        },
        "id": "jjsB5hs7Vlb-",
        "outputId": "76e7b1c4-c552-4823-f395-2ca198764e28"
      },
      "execution_count": null,
      "outputs": [
        {
          "output_type": "stream",
          "name": "stdout",
          "text": [
            "Pemahaman terhadap rencana dan desain\n",
            "Ketersediaan bahan dan peralatan\n",
            "Pengawasan pekerjaan\n",
            "Kualitas kontruksi\n",
            "Keselamatan kerja\n",
            "Koordinasi dengan pemilik proyek\n"
          ]
        }
      ]
    },
    {
      "cell_type": "code",
      "source": [
        "startTime = { \"HH\" : 9, \"mm\" : 23,  \"ss\" : 57 }\n",
        "endTime = { \"HH\" : 15, \"mm\" : 25, \"ss\" : 43}\n",
        "\n",
        "print (startTime[\"HH\"])\n",
        "print (startTime[\"mm\"])\n",
        "print (startTime[\"ss\"])\n",
        "\n",
        "print (endTime[\"HH\"])\n",
        "print (endTime[\"mm\"])\n",
        "print (endTime[\"ss\"])"
      ],
      "metadata": {
        "colab": {
          "base_uri": "https://localhost:8080/"
        },
        "id": "F6vlCNhmcm46",
        "outputId": "5f5d1c7a-0a94-4cef-aa2f-b9fdee39fefa"
      },
      "execution_count": null,
      "outputs": [
        {
          "output_type": "stream",
          "name": "stdout",
          "text": [
            "9\n",
            "23\n",
            "57\n",
            "15\n",
            "25\n",
            "43\n"
          ]
        }
      ]
    },
    {
      "cell_type": "code",
      "source": [
        "katalog_indomaret = {'kecap', 'indomie', 'micellar water', 'fanta' }\n",
        "katalog_alfamart = {'cocacola', 'indomie', 'sosiskanzler', 'micellar water' }\n",
        "\n",
        "# Katalog Lengkap\n",
        "union = katalog_indomaret.union(katalog_alfamart)\n",
        "\n",
        "intersection = katalog_indomaret.intersection(katalog_alfamart)\n",
        "\n",
        "print (\"union:\", union)\n",
        "print (\"ntersection:\", intersection )"
      ],
      "metadata": {
        "colab": {
          "base_uri": "https://localhost:8080/"
        },
        "id": "-hj6pxWApYQ0",
        "outputId": "d2909a3e-ff89-4d80-99c2-4701de55702e"
      },
      "execution_count": null,
      "outputs": [
        {
          "output_type": "stream",
          "name": "stdout",
          "text": [
            "union: {'sosiskanzler', 'fanta', 'cocacola', 'kecap', 'micellar water', 'indomie'}\n",
            "ntersection: {'micellar water', 'indomie'}\n"
          ]
        }
      ]
    },
    {
      "cell_type": "code",
      "source": [],
      "metadata": {
        "id": "mSDe8Rz0ubfV"
      },
      "execution_count": null,
      "outputs": []
    }
  ]
}