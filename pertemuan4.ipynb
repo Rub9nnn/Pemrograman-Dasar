{
  "nbformat": 4,
  "nbformat_minor": 0,
  "metadata": {
    "colab": {
      "provenance": [],
      "authorship_tag": "ABX9TyOvf2rilZ1Y4wtV8pgeBMde",
      "include_colab_link": true
    },
    "kernelspec": {
      "name": "python3",
      "display_name": "Python 3"
    },
    "language_info": {
      "name": "python"
    }
  },
  "cells": [
    {
      "cell_type": "markdown",
      "metadata": {
        "id": "view-in-github",
        "colab_type": "text"
      },
      "source": [
        "<a href=\"https://colab.research.google.com/github/Rub9nnn/Pemrograman-Dasar/blob/main/pertemuan4.ipynb\" target=\"_parent\"><img src=\"https://colab.research.google.com/assets/colab-badge.svg\" alt=\"Open In Colab\"/></a>"
      ]
    },
    {
      "cell_type": "code",
      "source": [
        "umur = input(\"Berapakah umur kamu: \")\n",
        "if int(umur) >= 18:\n",
        "  print(\"Kamu boleh membuat SIM\")\n",
        "else:\n",
        "  print(\"Kamu belum boleh membuat SIM\")"
      ],
      "metadata": {
        "colab": {
          "base_uri": "https://localhost:8080/"
        },
        "id": "RNJy5wm4Xhww",
        "outputId": "571f0f1b-1056-4973-aa66-c83675a0820c"
      },
      "execution_count": 14,
      "outputs": [
        {
          "output_type": "stream",
          "name": "stdout",
          "text": [
            "Berapakah umur kamu: 10\n",
            "Kamu belum boleh membuat SIM\n"
          ]
        }
      ]
    },
    {
      "cell_type": "code",
      "source": [
        "total_belanja = 450.000\n",
        "if total_belanja > 200.000:\n",
        " diskon = total_belanja * 0.10\n",
        " total_bayar = total_belanja - diskon\n",
        " print(f\"Anda dapat dskon! Total bayar: Rp {total_bayar}\")\n",
        "else:\n",
        "  print(f\"Total bayar: Rp {total_belanja}\")"
      ],
      "metadata": {
        "colab": {
          "base_uri": "https://localhost:8080/"
        },
        "id": "yt-IQ6JAbkzG",
        "outputId": "6eb795de-0f55-4399-b315-f0226cbf8ebd"
      },
      "execution_count": 20,
      "outputs": [
        {
          "output_type": "stream",
          "name": "stdout",
          "text": [
            "Anda dapat dskon! Total bayar: Rp 405.0\n"
          ]
        }
      ]
    },
    {
      "cell_type": "code",
      "source": [
        "nilai = 72\n",
        "if nilai >= 85:\n",
        "  print(\"Menyala abangkuhh! Nilai A\")\n",
        "elif nilai >= 70:\n",
        "  print(\"Kelazz pake z! Nilai B\")\n",
        "elif nilai >= 60:\n",
        "  print(\"Anjay remedd! Nilai C\")\n",
        "else:\n",
        "  print(\"Belajar lagi dekkk.\")"
      ],
      "metadata": {
        "colab": {
          "base_uri": "https://localhost:8080/"
        },
        "id": "qDhPSp83efoo",
        "outputId": "6e3bd3e4-4ba9-4c55-8149-0c1fdf2331ce"
      },
      "execution_count": 22,
      "outputs": [
        {
          "output_type": "stream",
          "name": "stdout",
          "text": [
            "Kelazz pake z! Nilai B\n"
          ]
        }
      ]
    },
    {
      "cell_type": "code",
      "source": [
        "hari: str = \"Sabtu\"\n",
        "\n",
        "if hari == \"Sabtu\" or hari == \"Minggu\":\n",
        "  diskon: float =0.20\n",
        "  print(f\"Selamat! Anda mendapatkan diskon akhir pekan sebesar {diskon*100}%..\")\n",
        "elif hari == \"Jumat\":\n",
        "  diskon: float = 0.15\n",
        "  print(f\"Diskon spesial hari jumat! Anda mendapatkan potongan {diskon*100}%.\")\n",
        "else:\n",
        "  diskon: float = 0.05\n",
        "  print(f\"Anda mendapatkan diskon hari biasa sebesar {diskon*100}%.\")"
      ],
      "metadata": {
        "colab": {
          "base_uri": "https://localhost:8080/"
        },
        "id": "29cs6Zjqf-r_",
        "outputId": "ded28a3d-011e-4131-ee15-0902ef040479"
      },
      "execution_count": 24,
      "outputs": [
        {
          "output_type": "stream",
          "name": "stdout",
          "text": [
            "Selamat! Anda mendapatkan diskon akhir pekan sebesar 20.0%..\n"
          ]
        }
      ]
    }
  ]
}