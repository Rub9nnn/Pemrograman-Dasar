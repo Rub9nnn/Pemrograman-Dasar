{
  "nbformat": 4,
  "nbformat_minor": 0,
  "metadata": {
    "colab": {
      "provenance": [],
      "authorship_tag": "ABX9TyNAM4RglYaEKVXRVCgvd2Rg",
      "include_colab_link": true
    },
    "kernelspec": {
      "name": "python3",
      "display_name": "Python 3"
    },
    "language_info": {
      "name": "python"
    }
  },
  "cells": [
    {
      "cell_type": "markdown",
      "metadata": {
        "id": "view-in-github",
        "colab_type": "text"
      },
      "source": [
        "<a href=\"https://colab.research.google.com/github/Rub9nnn/Pemrograman-Dasar/blob/main/Tugas1.ipynb\" target=\"_parent\"><img src=\"https://colab.research.google.com/assets/colab-badge.svg\" alt=\"Open In Colab\"/></a>"
      ]
    },
    {
      "cell_type": "code",
      "execution_count": 10,
      "metadata": {
        "colab": {
          "base_uri": "https://localhost:8080/"
        },
        "id": "oRcgks9zFtNM",
        "outputId": "6b9cfaa4-9418-49f7-dd44-08a432f53f97"
      },
      "outputs": [
        {
          "output_type": "stream",
          "name": "stdout",
          "text": [
            "Ruben Santosa Simbolon\n",
            "20\n",
            "Batam\n",
            "9 April 2005\n",
            "Katholik\n",
            "Rekayasa Pembangkit Energi\n",
            "3\n",
            "Pemerograman Dasar\n",
            "False\n"
          ]
        }
      ],
      "source": [
        "# Biodata saya\n",
        "\n",
        "\n",
        "nama = \"Ruben Santosa Simbolon\"\n",
        "umur = 20\n",
        "tempat_lahir = \"Batam\"\n",
        "tanggal_lahir = \"9 April 2005\"\n",
        "agama = \"Katholik\"\n",
        "jurusan = \"Rekayasa Pembangkit Energi\"\n",
        "semester = 3\n",
        "matakuliah = \"Pemerograman Dasar\"\n",
        "status_lulus = False\n",
        "\n",
        "\n",
        "\n",
        "\n",
        "print (nama)\n",
        "print (umur)\n",
        "print (tempat_lahir)\n",
        "print (tanggal_lahir)\n",
        "print (agama)\n",
        "print (jurusan)\n",
        "print (semester)\n",
        "print (matakuliah)\n",
        "print (status_lulus)"
      ]
    }
  ]
}