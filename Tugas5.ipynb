{
  "nbformat": 4,
  "nbformat_minor": 0,
  "metadata": {
    "colab": {
      "provenance": [],
      "authorship_tag": "ABX9TyPfyJ3k67/pEdYV/PZe/u5x",
      "include_colab_link": true
    },
    "kernelspec": {
      "name": "python3",
      "display_name": "Python 3"
    },
    "language_info": {
      "name": "python"
    }
  },
  "cells": [
    {
      "cell_type": "markdown",
      "metadata": {
        "id": "view-in-github",
        "colab_type": "text"
      },
      "source": [
        "<a href=\"https://colab.research.google.com/github/Rub9nnn/Pemrograman-Dasar/blob/main/Tugas5.ipynb\" target=\"_parent\"><img src=\"https://colab.research.google.com/assets/colab-badge.svg\" alt=\"Open In Colab\"/></a>"
      ]
    },
    {
      "cell_type": "code",
      "execution_count": 2,
      "metadata": {
        "colab": {
          "base_uri": "https://localhost:8080/"
        },
        "id": "g-8e7vSDwQds",
        "outputId": "b2b8e2e1-b653-4259-8644-324d6047aaeb"
      },
      "outputs": [
        {
          "output_type": "stream",
          "name": "stdout",
          "text": [
            "---Soal 1 ---\n",
            "2\n",
            "4\n",
            "6\n",
            "8\n",
            "10\n",
            "12\n",
            "14\n",
            "16\n",
            "18\n",
            "20\n",
            "22\n",
            "24\n",
            "26\n",
            "28\n",
            "30\n",
            "32\n",
            "34\n",
            "36\n",
            "38\n",
            "40\n",
            "42\n",
            "44\n",
            "46\n",
            "48\n",
            "50\n"
          ]
        }
      ],
      "source": [
        "print(\"---Soal 1 ---\")\n",
        "for angka in range(2, 51, 2):\n",
        "  print(angka)"
      ]
    },
    {
      "cell_type": "code",
      "source": [
        "print(\"---Soal 2---\")\n",
        "kode_berhenti = 4232411043\n",
        "input_pengguna = 0\n",
        "\n",
        "while input_pengguna != kode_berhenti:\n",
        "  try:\n",
        "    input_pengguna = int(input(\"Masukkan angka ({:} untuk berhenti): \"))\n",
        "  except ValueError:\n",
        "    print(\"Input tidak valid. Harap masukkan angka.\")\n",
        "  print(f\"Perulangan telah dihentikan oleh sentinel ({4232411043}). \")\n"
      ],
      "metadata": {
        "colab": {
          "base_uri": "https://localhost:8080/"
        },
        "id": "lzFzU9uLx1-b",
        "outputId": "ffde60f2-a530-4f32-af02-fceede8da35b"
      },
      "execution_count": null,
      "outputs": [
        {
          "output_type": "stream",
          "name": "stdout",
          "text": [
            "---Soal 2---\n",
            "Masukkan angka ({:} untuk berhenti): 4\n",
            "Perulangan telah dihentikan oleh sentinel (4232411043). \n",
            "Masukkan angka ({:} untuk berhenti): 123\n",
            "Perulangan telah dihentikan oleh sentinel (4232411043). \n",
            "Masukkan angka ({:} untuk berhenti): \n",
            "Input tidak valid. Harap masukkan angka.\n",
            "Perulangan telah dihentikan oleh sentinel (4232411043). \n",
            "Masukkan angka ({:} untuk berhenti): \n",
            "Input tidak valid. Harap masukkan angka.\n",
            "Perulangan telah dihentikan oleh sentinel (4232411043). \n",
            "Masukkan angka ({:} untuk berhenti): 42322411043\n",
            "Perulangan telah dihentikan oleh sentinel (4232411043). \n"
          ]
        }
      ]
    },
    {
      "cell_type": "code",
      "source": [
        "print(\"---Soal 3---\")\n",
        "harga_barang = [15000, 25000, 10000, 5000]\n",
        "total_belanja = 0\n",
        "\n",
        "jumlah_item = 10\n",
        "jumlah_harga_unik = len(harga_barang)\n",
        "\n",
        "for i in range(jumlah_item):\n",
        "  indeks = i % jumlah_harga_unik\n",
        "  harga = harga_barang[indeks]\n",
        "  total_belanja += harga\n",
        "\n",
        "  print(\"Total biaya belanja adalah:\", total_belanja)"
      ],
      "metadata": {
        "colab": {
          "base_uri": "https://localhost:8080/"
        },
        "id": "WStI4WN904E0",
        "outputId": "b5491637-0242-4b23-8c33-11a9117e0229"
      },
      "execution_count": 13,
      "outputs": [
        {
          "output_type": "stream",
          "name": "stdout",
          "text": [
            "---Soal 3---\n",
            "Total biaya belanja adalah: 15000\n",
            "Total biaya belanja adalah: 40000\n",
            "Total biaya belanja adalah: 50000\n",
            "Total biaya belanja adalah: 55000\n",
            "Total biaya belanja adalah: 70000\n",
            "Total biaya belanja adalah: 95000\n",
            "Total biaya belanja adalah: 105000\n",
            "Total biaya belanja adalah: 110000\n",
            "Total biaya belanja adalah: 125000\n",
            "Total biaya belanja adalah: 150000\n"
          ]
        }
      ]
    },
    {
      "cell_type": "code",
      "source": [
        "print('---Soal 4---')\n",
        "\n",
        "percobaan_maksimal = 3\n",
        "percobaan_saat_ini = 1\n",
        "\n",
        "while percobaan_saat_ini <= percobaan_maksimal:\n",
        "  print(f\"Percobaan ke--{percobaan_saat_ini}...\")\n",
        "  percobaan_saat_ini += 1\n",
        "  if percobaan_saat_ini == percobaan_maksimal + 1:\n",
        "    print(\"Kesempatan habis.\")\n",
        ""
      ],
      "metadata": {
        "colab": {
          "base_uri": "https://localhost:8080/"
        },
        "id": "qNak6tLU3Txb",
        "outputId": "5ebed8a4-a144-403d-db86-97a93c8d709b"
      },
      "execution_count": 20,
      "outputs": [
        {
          "output_type": "stream",
          "name": "stdout",
          "text": [
            "---Soal 4---\n",
            "Percobaan ke--1...\n",
            "Percobaan ke--2...\n",
            "Percobaan ke--3...\n",
            "Kesempatan habis.\n"
          ]
        }
      ]
    },
    {
      "cell_type": "code",
      "source": [
        "print(\"---Soal 5---\")\n",
        "nama_proyek = \"POLITEKNIK NEGERI BATAM\"\n",
        "hasil_output = \"\"\n",
        "\n",
        "for karakter in nama_proyek:\n",
        "  hasil_output += karakter + \"-\"\n",
        "\n",
        "  print(hasil_output[:-1])"
      ],
      "metadata": {
        "colab": {
          "base_uri": "https://localhost:8080/"
        },
        "id": "aaqc0USq5Khc",
        "outputId": "055d47b3-b028-4ed6-e2cd-f7b8eb51b028"
      },
      "execution_count": 21,
      "outputs": [
        {
          "output_type": "stream",
          "name": "stdout",
          "text": [
            "---Soal 5---\n",
            "P\n",
            "P-O\n",
            "P-O-L\n",
            "P-O-L-I\n",
            "P-O-L-I-T\n",
            "P-O-L-I-T-E\n",
            "P-O-L-I-T-E-K\n",
            "P-O-L-I-T-E-K-N\n",
            "P-O-L-I-T-E-K-N-I\n",
            "P-O-L-I-T-E-K-N-I-K\n",
            "P-O-L-I-T-E-K-N-I-K- \n",
            "P-O-L-I-T-E-K-N-I-K- -N\n",
            "P-O-L-I-T-E-K-N-I-K- -N-E\n",
            "P-O-L-I-T-E-K-N-I-K- -N-E-G\n",
            "P-O-L-I-T-E-K-N-I-K- -N-E-G-E\n",
            "P-O-L-I-T-E-K-N-I-K- -N-E-G-E-R\n",
            "P-O-L-I-T-E-K-N-I-K- -N-E-G-E-R-I\n",
            "P-O-L-I-T-E-K-N-I-K- -N-E-G-E-R-I- \n",
            "P-O-L-I-T-E-K-N-I-K- -N-E-G-E-R-I- -B\n",
            "P-O-L-I-T-E-K-N-I-K- -N-E-G-E-R-I- -B-A\n",
            "P-O-L-I-T-E-K-N-I-K- -N-E-G-E-R-I- -B-A-T\n",
            "P-O-L-I-T-E-K-N-I-K- -N-E-G-E-R-I- -B-A-T-A\n",
            "P-O-L-I-T-E-K-N-I-K- -N-E-G-E-R-I- -B-A-T-A-M\n"
          ]
        }
      ]
    },
    {
      "cell_type": "code",
      "source": [
        "print(\"---Soal 6---\")\n",
        "for i in range(255, 0, -1):\n",
        "  print(i)"
      ],
      "metadata": {
        "colab": {
          "base_uri": "https://localhost:8080/"
        },
        "id": "n2UZNjTB7fJL",
        "outputId": "f5e8abc0-314c-45ea-ba1e-1dfdcbcd8a72"
      },
      "execution_count": 22,
      "outputs": [
        {
          "output_type": "stream",
          "name": "stdout",
          "text": [
            "---Soal 6---\n",
            "255\n",
            "254\n",
            "253\n",
            "252\n",
            "251\n",
            "250\n",
            "249\n",
            "248\n",
            "247\n",
            "246\n",
            "245\n",
            "244\n",
            "243\n",
            "242\n",
            "241\n",
            "240\n",
            "239\n",
            "238\n",
            "237\n",
            "236\n",
            "235\n",
            "234\n",
            "233\n",
            "232\n",
            "231\n",
            "230\n",
            "229\n",
            "228\n",
            "227\n",
            "226\n",
            "225\n",
            "224\n",
            "223\n",
            "222\n",
            "221\n",
            "220\n",
            "219\n",
            "218\n",
            "217\n",
            "216\n",
            "215\n",
            "214\n",
            "213\n",
            "212\n",
            "211\n",
            "210\n",
            "209\n",
            "208\n",
            "207\n",
            "206\n",
            "205\n",
            "204\n",
            "203\n",
            "202\n",
            "201\n",
            "200\n",
            "199\n",
            "198\n",
            "197\n",
            "196\n",
            "195\n",
            "194\n",
            "193\n",
            "192\n",
            "191\n",
            "190\n",
            "189\n",
            "188\n",
            "187\n",
            "186\n",
            "185\n",
            "184\n",
            "183\n",
            "182\n",
            "181\n",
            "180\n",
            "179\n",
            "178\n",
            "177\n",
            "176\n",
            "175\n",
            "174\n",
            "173\n",
            "172\n",
            "171\n",
            "170\n",
            "169\n",
            "168\n",
            "167\n",
            "166\n",
            "165\n",
            "164\n",
            "163\n",
            "162\n",
            "161\n",
            "160\n",
            "159\n",
            "158\n",
            "157\n",
            "156\n",
            "155\n",
            "154\n",
            "153\n",
            "152\n",
            "151\n",
            "150\n",
            "149\n",
            "148\n",
            "147\n",
            "146\n",
            "145\n",
            "144\n",
            "143\n",
            "142\n",
            "141\n",
            "140\n",
            "139\n",
            "138\n",
            "137\n",
            "136\n",
            "135\n",
            "134\n",
            "133\n",
            "132\n",
            "131\n",
            "130\n",
            "129\n",
            "128\n",
            "127\n",
            "126\n",
            "125\n",
            "124\n",
            "123\n",
            "122\n",
            "121\n",
            "120\n",
            "119\n",
            "118\n",
            "117\n",
            "116\n",
            "115\n",
            "114\n",
            "113\n",
            "112\n",
            "111\n",
            "110\n",
            "109\n",
            "108\n",
            "107\n",
            "106\n",
            "105\n",
            "104\n",
            "103\n",
            "102\n",
            "101\n",
            "100\n",
            "99\n",
            "98\n",
            "97\n",
            "96\n",
            "95\n",
            "94\n",
            "93\n",
            "92\n",
            "91\n",
            "90\n",
            "89\n",
            "88\n",
            "87\n",
            "86\n",
            "85\n",
            "84\n",
            "83\n",
            "82\n",
            "81\n",
            "80\n",
            "79\n",
            "78\n",
            "77\n",
            "76\n",
            "75\n",
            "74\n",
            "73\n",
            "72\n",
            "71\n",
            "70\n",
            "69\n",
            "68\n",
            "67\n",
            "66\n",
            "65\n",
            "64\n",
            "63\n",
            "62\n",
            "61\n",
            "60\n",
            "59\n",
            "58\n",
            "57\n",
            "56\n",
            "55\n",
            "54\n",
            "53\n",
            "52\n",
            "51\n",
            "50\n",
            "49\n",
            "48\n",
            "47\n",
            "46\n",
            "45\n",
            "44\n",
            "43\n",
            "42\n",
            "41\n",
            "40\n",
            "39\n",
            "38\n",
            "37\n",
            "36\n",
            "35\n",
            "34\n",
            "33\n",
            "32\n",
            "31\n",
            "30\n",
            "29\n",
            "28\n",
            "27\n",
            "26\n",
            "25\n",
            "24\n",
            "23\n",
            "22\n",
            "21\n",
            "20\n",
            "19\n",
            "18\n",
            "17\n",
            "16\n",
            "15\n",
            "14\n",
            "13\n",
            "12\n",
            "11\n",
            "10\n",
            "9\n",
            "8\n",
            "7\n",
            "6\n",
            "5\n",
            "4\n",
            "3\n",
            "2\n",
            "1\n"
          ]
        }
      ]
    },
    {
      "cell_type": "code",
      "source": [
        "print(\"---Soal 7---\")\n",
        "kelurahan = [\"Sungai langkai\", \"Taman baloi\", \"Sungai pelunggut\", \"Sukajadi\"]\n",
        "\n",
        "for i, nama in enumerate(kelurahan):\n",
        "\n",
        " print(f\"Kelurahan ke-{i + 1}: {nama}\")\n"
      ],
      "metadata": {
        "colab": {
          "base_uri": "https://localhost:8080/"
        },
        "id": "aQtjStC974fH",
        "outputId": "598b5d9c-5357-4713-a5f3-2d5bc790dbbd"
      },
      "execution_count": 30,
      "outputs": [
        {
          "output_type": "stream",
          "name": "stdout",
          "text": [
            "---Soal 7---\n",
            "Kelurahan ke-1: Sungai langkai\n",
            "Kelurahan ke-2: Taman baloi\n",
            "Kelurahan ke-3: Sungai pelunggut\n",
            "Kelurahan ke-4: Sukajadi\n"
          ]
        }
      ]
    },
    {
      "cell_type": "code",
      "source": [
        "print(\"---Soal 8---\")\n",
        "data_angka = [10, 20, 30, 0, 56, 34]\n",
        "print()\n",
        "for angka in data_angka:\n",
        "  if angka == 0:\n",
        "\n",
        "   break\n",
        "\n",
        "   print(\"Program berhenti karena angka di 0 ditemukan.\")\n"
      ],
      "metadata": {
        "colab": {
          "base_uri": "https://localhost:8080/"
        },
        "id": "RNGXxLOS-G_H",
        "outputId": "94dec555-490c-478c-8945-1d31af52303d"
      },
      "execution_count": 51,
      "outputs": [
        {
          "output_type": "stream",
          "name": "stdout",
          "text": [
            "---Soal 8---\n"
          ]
        }
      ]
    },
    {
      "cell_type": "code",
      "source": [
        "  print(\"---Soal 9---\")\n",
        "  total = 0\n",
        "  bilangan = 1\n",
        "  batas = 20\n",
        "\n",
        "  while total <= batas:\n",
        "    total += bilangan\n",
        "    bilangan += 1\n",
        "\n",
        "    print(\"Total terakhir:\", total)"
      ],
      "metadata": {
        "colab": {
          "base_uri": "https://localhost:8080/"
        },
        "id": "wQMhQmvnAS4t",
        "outputId": "0161f9e8-e0b0-44ae-e8a4-c8f7efdef2c9"
      },
      "execution_count": 52,
      "outputs": [
        {
          "output_type": "stream",
          "name": "stdout",
          "text": [
            "---Soal 9---\n",
            "Total terakhir: 1\n",
            "Total terakhir: 3\n",
            "Total terakhir: 6\n",
            "Total terakhir: 10\n",
            "Total terakhir: 15\n",
            "Total terakhir: 21\n"
          ]
        }
      ]
    },
    {
      "cell_type": "code",
      "source": [
        "print(\"---Soal 10---\")\n",
        "jumlah_baris = 3\n",
        "for baris in range(jumlah_baris):\n",
        "  baris_teks = \"\"\n",
        "  for kolom in range(1):\n",
        "\n",
        "\n",
        "   baris_teks += (\"Python\")\n",
        "  print(baris_teks)"
      ],
      "metadata": {
        "colab": {
          "base_uri": "https://localhost:8080/"
        },
        "id": "Ibj6WMgOE8CP",
        "outputId": "6cdc22cb-1ffd-4255-ca90-68cd87d5baa0"
      },
      "execution_count": 93,
      "outputs": [
        {
          "output_type": "stream",
          "name": "stdout",
          "text": [
            "---Soal 10---\n",
            "Python\n",
            "Python\n",
            "Python\n"
          ]
        }
      ]
    }
  ]
}