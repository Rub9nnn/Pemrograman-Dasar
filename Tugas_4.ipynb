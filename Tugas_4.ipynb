{
  "nbformat": 4,
  "nbformat_minor": 0,
  "metadata": {
    "colab": {
      "provenance": [],
      "authorship_tag": "ABX9TyNtUbUhT6bqyvqlrL0SX3Wy",
      "include_colab_link": true
    },
    "kernelspec": {
      "name": "python3",
      "display_name": "Python 3"
    },
    "language_info": {
      "name": "python"
    }
  },
  "cells": [
    {
      "cell_type": "markdown",
      "metadata": {
        "id": "view-in-github",
        "colab_type": "text"
      },
      "source": [
        "<a href=\"https://colab.research.google.com/github/Rub9nnn/Pemrograman-Dasar/blob/main/Tugas_4.ipynb\" target=\"_parent\"><img src=\"https://colab.research.google.com/assets/colab-badge.svg\" alt=\"Open In Colab\"/></a>"
      ]
    },
    {
      "cell_type": "code",
      "execution_count": null,
      "metadata": {
        "colab": {
          "base_uri": "https://localhost:8080/"
        },
        "id": "unjqpHJ1x7_x",
        "outputId": "0e680c99-ed79-4832-ba63-a659fad498dc"
      },
      "outputs": [
        {
          "output_type": "stream",
          "name": "stdout",
          "text": [
            "655\n",
            "Kelipatan 5\n"
          ]
        }
      ],
      "source": [
        "# Kelipatan 5\n",
        "\n",
        "angka = int(input(\"65\"))\n",
        "if angka % 5 == 0:\n",
        "  print(\"Kelipatan 5\")\n",
        "else:\n",
        "  print(\"Bukan kelipatan 5\")"
      ]
    },
    {
      "cell_type": "code",
      "source": [
        "  tahun = int(input(\":\"))\n",
        "\n",
        "  if (tahun % 400 == 0) or (tahun % 100 == 0):\n",
        "    print(f\"Tahun {tahun} adalah TAHUN KABISAT\")\n",
        "  else:\n",
        "    print(f\"Tahun {tahun} bukan TAHUN KABISAT\")"
      ],
      "metadata": {
        "colab": {
          "base_uri": "https://localhost:8080/"
        },
        "id": "gYVNt6MPy2kn",
        "outputId": "6b6e2a6b-7992-4814-d454-0f3d61e4b873"
      },
      "execution_count": null,
      "outputs": [
        {
          "output_type": "stream",
          "name": "stdout",
          "text": [
            ":2014\n",
            "Tahun 2014 bukan TAHUN KABISAT\n"
          ]
        }
      ]
    },
    {
      "cell_type": "code",
      "source": [
        "bilangan = float(input(\":\"))\n",
        "\n",
        "if bilangan > 0:\n",
        "  print(f\"Bilangan {bilangan} adalah bilangan POSITIF\")\n",
        "elif bilangan < 0:\n",
        "  print(f\"Bilangan {bilangan} adalah biilangan NEGATIF\")\n",
        "else: # Jika tidak lebih dari 0 atau kurang dari 0, maka bilangan itu adalh nol )\n",
        "  print(f\"Bilangan {bilangan} adalah NOL\")\n"
      ],
      "metadata": {
        "colab": {
          "base_uri": "https://localhost:8080/"
        },
        "id": "6Oc-tv1O0wuM",
        "outputId": "baa7e8a0-8037-4e0e-f9ae-b175a049419d"
      },
      "execution_count": null,
      "outputs": [
        {
          "output_type": "stream",
          "name": "stdout",
          "text": [
            ":-1\n",
            "Bilangan -1.0 adalah biilangan NEGATIF\n"
          ]
        }
      ]
    },
    {
      "cell_type": "code",
      "source": [
        "bulan_angka = int(input(\":\"))\n",
        "\n",
        "if bulan_angka == 1:\n",
        " print (f\"Bulan {bulan_angka} adalah Januari\")\n",
        "elif bulan_angka == 2:\n",
        "  print (f\"Bulan {bulan_angka} adalah Februari\")\n",
        "elif bulan_angka == 3:\n",
        "  print(f\"Bulan {bulan_angka} adalah Maret\")\n",
        "elif bulan_angka == 4:\n",
        "  print(f\"Bulan {bulan_angka} adalah April\")\n",
        "elif bulan_angka == 5:\n",
        "  print(f\"Bulan {bulan_angka} adalah Mei\")\n",
        "elif bulan_angka == 6:\n",
        "  print(f\"Bulan {bulan_angka} adalah Juni\")\n",
        "elif bulan_angka == 7:\n",
        "  print(f\"Bulan {bulan_angka} adalah Juli\")\n",
        "elif bulan_angka == 8:\n",
        "    print(f\"Bulan {bulan_angka} adalah Agustus\")\n",
        "elif bulan_angka == 9:\n",
        "  print(f\"Bulan {bulan_angka} adalah September\")\n",
        "elif bulan_angka == 10:\n",
        "  print(f\"Bulan {bulan_angka} adalah Oktober\")\n",
        "elif bulan_angka == 11:\n",
        "  print(f\"Bulan {bulan_angka} adalah November\")\n",
        "elif bulan_angka == 12:\n",
        "  print(f\"Bulan {bulan_angka} adalah Desember\")\n",
        "\n",
        "else:\n",
        "  print(\"Input salah: Nomor bulan harus antara 1 sampai 12\")\n",
        "\n",
        "  print(f\"Bulan ke-{bulan_angka} adalah {nama_bulan}\")\n",
        "\n",
        "\n",
        "\n"
      ],
      "metadata": {
        "colab": {
          "base_uri": "https://localhost:8080/"
        },
        "id": "c4UBRyF32orO",
        "outputId": "f665e73b-7b7b-4891-f030-48cf1af6404f"
      },
      "execution_count": null,
      "outputs": [
        {
          "output_type": "stream",
          "name": "stdout",
          "text": [
            ":4\n",
            "Bulan 4 adalah April\n"
          ]
        }
      ]
    },
    {
      "cell_type": "code",
      "source": [
        "jam = int(input(\"\"))\n",
        "\n",
        "if jam < 0 or jam > 23:\n",
        "  print(\"Input salah. Jam harus dalam rentang 0 sampai 23\")\n",
        "\n",
        "if 0 <= jam <= 11:\n",
        "  print(\"Selamat pagi\")\n",
        "elif 12 <= jam <= 15:\n",
        "  print(\"Selamat siang\")\n",
        "elif 16 <= jam <= 18:\n",
        "  print(\"Selamat sore\")\n",
        "else: 19 <= jam <= 23\n",
        "print(\"Selamat malam\")"
      ],
      "metadata": {
        "colab": {
          "base_uri": "https://localhost:8080/"
        },
        "id": "FkPZV2ZG9a4f",
        "outputId": "40349411-43e6-4162-b140-b61eb6c03faf"
      },
      "execution_count": null,
      "outputs": [
        {
          "output_type": "stream",
          "name": "stdout",
          "text": [
            "20\n",
            "Selamat malam\n"
          ]
        }
      ]
    },
    {
      "cell_type": "code",
      "source": [
        "\n",
        "MENU = {  '1' : {'nama': 'Nasi uduk', 'harga': 1200, 'kategori': 'A'},\n",
        "          '2' : {'nama': 'Telor', 'harga': 3000, 'kategori': 'B'},\n",
        "          '3' : {'nama': 'Roti bakar', 'harga': 15000, 'kategori': 'C'},\n",
        "          '4' : {'nama': 'Teh botol', 'harga': 5000, 'kategori': 'D'},\n",
        "}\n",
        "    print(\"/n=============== MENU ===============\")\n",
        "    print(\"1. Nasi uduk (Rp 12.000) [Kategori A]\")\n",
        "    print(\"2. Telor (Rp 3.000) [Kategori B]\")\n",
        "    print(\"3. Roti bakar (Rp 15.000) [Kategori C]\")\n",
        "    print(\"4. Teh botol (Rp 5.000) [Kategori D]\")\n",
        "\n",
        "\n",
        "\n",
        "     pilihan_str = input (\":\")\n",
        "  if pilihan_str == '0'\n",
        "\n",
        "  if pilihan_str in MENU:\n",
        "    item = MENU[pilihan_str]\n",
        "\n",
        "    total_belanja += item['harga']\n",
        "\n",
        "    kategori_terbeli.add(item['kategori'])\n",
        "\n",
        "    print(f\" Ditambahkan: {item['nama']} (Total saat ini: Rp {total_belanja:,})\")\n",
        "    else:\n",
        "      print(\"Pilihan tidak valid. Silahkan coba lagi\")\n",
        "\n",
        "      # Perhitungan diskon\n",
        "      jumlah_kategori = len(kategori_terbeli)\n",
        "      diskon_persen = 0\n",
        "      diskon_nilai = 0\n",
        "      kategori_diskon = \"Tidak ada diskon\"\n",
        "\n",
        "      if jumlah_kategori >= 3:\n",
        "        diskon_persen = 70\n",
        "        diskon_nilai = total_belanja * (diskon_persen / 100)\n",
        "        kategori_diskon = f\"Selamat! kamu mendapatkan diskon {diskon_persen}% karena membeli dari {jumlah_kategori} kategori unik\"\n",
        "\n",
        "        # Total yang harus dibayar setelah diskon\n",
        "        total_setelah_diskon = total_belanja - diskon_nilai\n",
        "\n",
        "        print(\"/n=============== Ringkasan pembelian ===============\")\n",
        "        print(f\"Total belanja awal: Rp {total_belanja:,}\")\n",
        "        print(f\"Kategori uunik dibeli: {jumlah_kategori}({','.join(kategori_terbeli)})\")\n",
        "        print(f\"Diskon ({diskon_persen}%): - Rp {diskon_nilai:,}\")\n",
        "        print(\"-------------------------------------------------------------------------\")\n",
        "        print(f\"Total yang harus dibayar: Rp {total_setelah_diskon:,}\")\n",
        "        print(\"==========================================================================\")\n",
        "\n",
        "        uang_dibayar = int(input(f\"Masukkan uang pembayaran (minimal Rp {total_setelah_diskon:,}): \"))\n",
        "        if uang_dibayar >= total_setelah_diskon:\n",
        "          kembalian = uang_dibayar - total_setelah_diskon\n",
        "          print(f\"/nUang dibayar: Rp {uang_dibayar:,}\")\n",
        "          print(f\"Kembalian: Rp {kembalian:,}\")\n",
        "  else:\n",
        "        print(\"Uang pembayaran kurang. Silahkan masukkan jumlah yang cukup\")\n",
        "\n",
        "        print(\"Terima kasih sudah berbelanja!\")"
      ],
      "metadata": {
        "id": "91GPYNp4BPtt",
        "colab": {
          "base_uri": "https://localhost:8080/",
          "height": 106
        },
        "outputId": "ac4a9f58-05df-4991-ddd2-4573010d57fb"
      },
      "execution_count": 23,
      "outputs": [
        {
          "output_type": "error",
          "ename": "IndentationError",
          "evalue": "unindent does not match any outer indentation level (<tokenize>, line 15)",
          "traceback": [
            "\u001b[0;36m  File \u001b[0;32m\"<tokenize>\"\u001b[0;36m, line \u001b[0;32m15\u001b[0m\n\u001b[0;31m    if pilihan_str == '0'\u001b[0m\n\u001b[0m    ^\u001b[0m\n\u001b[0;31mIndentationError\u001b[0m\u001b[0;31m:\u001b[0m unindent does not match any outer indentation level\n"
          ]
        }
      ]
    },
    {
      "cell_type": "code",
      "source": [
        "print(\"=\"*30)\n",
        "print(\"Selamat dataang di LAPO TUAK\")\n",
        "print(\"=\"*30)\n",
        "print(\"Menu makanan & Minuman:\")\n",
        "print(\"1. Kopi hitam - Rp 12.000\")\n",
        "print(\"2. Teh Manis - Rp 8.000\")\n",
        "print(\"3. Roti bakar - Rp. 15.000\")\n",
        "print(\"4. Mie instan - Rp. 10.000\")\n",
        "print(\"=\"*30)\n",
        "\n",
        "pilihan_str: str = input(\":\")\n",
        "pilihan: int = int(pilihan_str)\n",
        "nama_pesanan: str = \"\"\n",
        "harga: int = 0\n",
        "\n",
        "if pilihan == 1:\n",
        "  nama_pesanan = \"Kopi hitam\"\n",
        "  harga = 12.000\n",
        "  print(f\"Anda memesan: {nama_pesanan} dengan harga Rp {harga} \")\n",
        "elif pilihan == 2:\n",
        "  nama_pesanan = \"Teh manis\"\n",
        "  harga = 8000\n",
        "  print(f\"Anda memesan: {nama_pesanan} dengan harga Rp {harga}\")\n",
        "elif pilihan == 3:\n",
        "  nama_pesanan = \" Roti bakar\"\n",
        "  harga = 15.000\n",
        "  print(f\"Anda memesan: {nama_pesanan} dengan harga Rp {harga}\")\n",
        "elif pilihan == 4:\n",
        "  nama_pesanan = \"Mie instan\"\n",
        "  harga = 10.000\n",
        "  print(f\"Anda memesan: {nama_pesanan} dengan harga Rp {harga}\")\n",
        "else:\n",
        " print(\"Maaf, pilihan menu tidak valid, silahkan coba lagi\")\n",
        "\n",
        " if harga > 0:\n",
        "  print(\"-\" * 30)\n",
        "  uang_dibayar_str : str = input(f\"Total yang harus dibayar: Rp {harga} Masukkan jumlah uang Anda: Rp \")\n",
        "  uang_dibayar: int = int(uang_dibayar_str)\n",
        "  if uang_dibayar >= harga:\n",
        "    kembalian: int = uang_dibayar - harga\n",
        "    print(\"/n---Struk pembayaran ---\")\n",
        "    print(f\"Pesanan anda : {nama_pesanan}\")\n",
        "    print(f\"Total harga : Rp {harga}\")\n",
        "    print(f\"Uang pembayaran : Rp {uang_dibayar}\")\n",
        "    print(f\"Kembalian : Rp {kembalian}\")\n",
        "    print(\"---------------------------------\")\n",
        "    print(\"Terima kasih telah membeli!\")\n",
        " else:\n",
        "  kekurangan: int = harga - uang_dibayar\n",
        "  print(f\"Maaf, uang anda kurang sebesar Rp {kekurangan}\")\n",
        "\n",
        "print(\"=\"*30)\n",
        "\n"
      ],
      "metadata": {
        "colab": {
          "base_uri": "https://localhost:8080/"
        },
        "id": "i0I6Lb8ylsD3",
        "outputId": "ec1c10ed-0579-44a9-d199-4bee24aa956c"
      },
      "execution_count": 31,
      "outputs": [
        {
          "output_type": "stream",
          "name": "stdout",
          "text": [
            "==============================\n",
            "Selamat dataang di LAPO TUAK\n",
            "==============================\n",
            "Menu makanan & Minuman:\n",
            "1. Kopi hitam - Rp 12.000\n",
            "2. Teh Manis - Rp 8.000\n",
            "3. Roti bakar - Rp. 15.000\n",
            "4. Mie instan - Rp. 10.000\n",
            "==============================\n",
            ":4\n",
            "Anda memesan: Mie instan dengan harga Rp 10.0\n",
            "==============================\n"
          ]
        }
      ]
    }
  ]
}